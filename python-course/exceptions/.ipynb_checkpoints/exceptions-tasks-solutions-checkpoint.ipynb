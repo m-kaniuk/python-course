{
 "cells": [
  {
   "cell_type": "markdown",
   "id": "6219c6c2-b2fc-49d5-9928-ab98d8dc1dc9",
   "metadata": {},
   "source": [
    "## Zadanie 1: Uzupełnij funkcję divide_numbers blokiem try-except-else-finally"
   ]
  },
  {
   "cell_type": "code",
   "execution_count": null,
   "id": "fb86415c-0f61-4706-9f99-a5ae6b0ef35d",
   "metadata": {},
   "outputs": [],
   "source": [
    "def divide_numbers(a, b):\n",
    "    try:\n",
    "        result = a / b\n",
    "    except ZeroDivisionError:\n",
    "        print(\"Błąd: Dzielenie przez zero!\")\n",
    "    else:\n",
    "        print(f\"Wynik: {result}\")\n",
    "    finally:\n",
    "        print(\"Operacja zakończona.\")\n",
    "\n",
    "divide_numbers(10, 2)\n",
    "divide_numbers(10, 0)\n"
   ]
  },
  {
   "cell_type": "markdown",
   "id": "ca48ea49-ddd6-4860-b5e4-35048082f078",
   "metadata": {},
   "source": [
    "## Zadanie 2: Uzupełnij funkcję get_list_element blokiem try-except-else-finally"
   ]
  },
  {
   "cell_type": "code",
   "execution_count": null,
   "id": "1c79b994-38a4-45ff-af42-b6f9fb462854",
   "metadata": {},
   "outputs": [],
   "source": [
    "def get_list_element(my_list, index):\n",
    "    try:\n",
    "        element = my_list[index]\n",
    "    except IndexError:\n",
    "        print(f\"Błąd: Indeks {index} jest poza zakresem listy.\")\n",
    "    else:\n",
    "        print(f\"Element at index {index}: {element}\")\n",
    "    finally:\n",
    "        print(\"Operacja zakończona.\")\n",
    "\n",
    "my_list = [1, 2, 3, 4, 5]\n",
    "get_list_element(my_list, 3)\n",
    "get_list_element(my_list, 10)\n"
   ]
  },
  {
   "cell_type": "markdown",
   "id": "d06ae173-9cca-4512-8c44-4005f1c62e82",
   "metadata": {},
   "source": [
    "## Zadanie 3: Uzupełnij funkcję get_dict_value blokiem try-except-else-finally"
   ]
  },
  {
   "cell_type": "code",
   "execution_count": null,
   "id": "b31edcf8-1aa7-4fb2-a672-23cc26574f42",
   "metadata": {},
   "outputs": [],
   "source": [
    "def get_dict_value(my_dict, key):\n",
    "    try:\n",
    "        value = my_dict[key]\n",
    "    except KeyError:\n",
    "        print(f\"Błąd: Klucz '{key}' nie istnieje w słowniku.\")\n",
    "    else:\n",
    "        print(f\"Wartość dla klucza {key}: {value}\")\n",
    "    finally:\n",
    "        print(\"Operacja zakończona.\")\n",
    "\n",
    "my_dict = {\"name\": \"Jan\", \"age\": 30}\n",
    "get_dict_value(my_dict, \"name\")\n",
    "get_dict_value(my_dict, \"address\")\n"
   ]
  },
  {
   "cell_type": "markdown",
   "id": "8b76c6b0-77ba-4280-a3ab-d64099166772",
   "metadata": {},
   "source": [
    "## Zadanie 4: Kalkulator z obsługą błędów\n",
    "Napisz program kalkulatora, który wykonuje podstawowe operacje matematyczne (dodawanie, odejmowanie, mnożenie, dzielenie). Obsłuż błędy takie jak: dzielenie przez zero, nieprawidłowe wejście użytkownika (np. litery zamiast liczb).\n",
    "\n",
    "Wskazówki:\n",
    "\n",
    "Użyj try-except do obsługi wyjątków.\n",
    "\n",
    "Użyj else, aby wykonać kod tylko wtedy, gdy nie wystąpił wyjątek.\n",
    "\n",
    "Użyj finally do wyświetlenia komunikatu końcowego."
   ]
  },
  {
   "cell_type": "code",
   "execution_count": null,
   "id": "26d399d6-82f2-4d6a-95ca-877ebcebb72f",
   "metadata": {},
   "outputs": [],
   "source": [
    "def calculator():\n",
    "    try:\n",
    "        num1 = float(input(\"Podaj pierwszą liczbę: \"))\n",
    "        num2 = float(input(\"Podaj drugą liczbę: \"))\n",
    "        operation = input(\"Podaj operację (+, -, *, /): \")\n",
    "\n",
    "        if operation == '+':\n",
    "            result = num1 + num2\n",
    "        elif operation == '-':\n",
    "            result = num1 - num2\n",
    "        elif operation == '*':\n",
    "            result = num1 * num2\n",
    "        elif operation == '/':\n",
    "            result = num1 / num2\n",
    "        else:\n",
    "            raise ValueError(\"Nieznana operacja\")\n",
    "    except ZeroDivisionError:\n",
    "        print(\"Błąd: Dzielenie przez zero!\")\n",
    "    except ValueError as e:\n",
    "        print(f\"Błąd: {e}\")\n",
    "    else:\n",
    "        print(f\"Wynik: {result}\")\n",
    "    finally:\n",
    "        print(\"Koniec obliczeń\")\n",
    "\n",
    "calculator()\n"
   ]
  }
 ],
 "metadata": {
  "kernelspec": {
   "display_name": "Python 3 (ipykernel)",
   "language": "python",
   "name": "python3"
  },
  "language_info": {
   "codemirror_mode": {
    "name": "ipython",
    "version": 3
   },
   "file_extension": ".py",
   "mimetype": "text/x-python",
   "name": "python",
   "nbconvert_exporter": "python",
   "pygments_lexer": "ipython3",
   "version": "3.12.4"
  }
 },
 "nbformat": 4,
 "nbformat_minor": 5
}
