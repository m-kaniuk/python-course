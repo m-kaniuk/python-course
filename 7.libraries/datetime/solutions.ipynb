{
 "cells": [
  {
   "cell_type": "markdown",
   "metadata": {},
   "source": [
    "# Zadanie 1: Zmiana formatowania daty\n",
    "\n",
    "Napisz funkcję reformat_date, która przyjmuje datę w formacie MM/DD/YYYY i zwraca ją w formacie YYYY-MM-DD.\n",
    "\n",
    "Hint: uzyj strptime i strftime\n"
   ]
  },
  {
   "cell_type": "code",
   "execution_count": null,
   "metadata": {},
   "outputs": [],
   "source": [
    "from datetime import datetime\n",
    "\n",
    "\n",
    "def reformat_date(date_str):\n",
    "    # Definiowanie oryginalnego formatu daty\n",
    "    original_format = \"%m/%d/%Y\"\n",
    "    # Konwersja daty z oryginalnego formatu do obiektu datetime\n",
    "    date_obj = datetime.strptime(date_str, original_format)\n",
    "    # Definiowanie nowego formatu daty\n",
    "    new_format = \"%Y-%m-%d\"\n",
    "    # Formatowanie daty do nowego formatu\n",
    "    formatted_date = date_obj.strftime(new_format)\n",
    "    return formatted_date\n",
    "\n",
    "\n",
    "# Przykład użycia\n",
    "original_date = \"08/07/2023\"\n",
    "formatted_date = reformat_date(original_date)\n",
    "print(formatted_date)  # Powinno zwrócić \"2023-08-07\""
   ]
  },
  {
   "cell_type": "markdown",
   "metadata": {},
   "source": [
    "# Zadanie 2: Obliczanie wieku w dniach\n",
    "\n",
    "Uzupełnij funkcję calculate_age, która przyjmuje datę urodzenia w formacie YYYY-MM-DD i zwraca wiek w dniach."
   ]
  },
  {
   "cell_type": "code",
   "execution_count": null,
   "metadata": {},
   "outputs": [],
   "source": [
    "from datetime import datetime\n",
    "\n",
    "\n",
    "def calculate_age(birthdate_str):\n",
    "    birthdate_format = \"%Y-%m-%d\"\n",
    "    birthdate = datetime.strptime(birthdate_str, birthdate_format)\n",
    "    today = datetime.today()\n",
    "    age_in_days = (today - birthdate).days\n",
    "    return age_in_days\n",
    "\n",
    "\n",
    "# Przykład użycia\n",
    "birthdate = \"1998-05-14\"\n",
    "age_in_days = calculate_age(birthdate)\n",
    "print(age_in_days)  # Zwraca wiek w dniach na podstawie dzisiejszej daty"
   ]
  }
 ],
 "metadata": {
  "kernelspec": {
   "display_name": "Python 3 (ipykernel)",
   "language": "python",
   "name": "python3"
  },
  "language_info": {
   "codemirror_mode": {
    "name": "ipython",
    "version": 3
   },
   "file_extension": ".py",
   "mimetype": "text/x-python",
   "name": "python",
   "nbconvert_exporter": "python",
   "pygments_lexer": "ipython3",
   "version": "3.9.16"
  }
 },
 "nbformat": 4,
 "nbformat_minor": 2
}
