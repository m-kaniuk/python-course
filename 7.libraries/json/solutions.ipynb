{
 "cells": [
  {
   "cell_type": "markdown",
   "metadata": {},
   "source": [
    "# Zadanie 1: Parsowanie złożonych struktur JSON\n",
    "\n",
    "Napisz funkcję parse_json, która przyjmuje ciąg znaków w formacie JSON zawierający słownik i zwraca wartość dla podanego klucza."
   ]
  },
  {
   "cell_type": "code",
   "execution_count": null,
   "metadata": {},
   "outputs": [],
   "source": [
    "import json\n",
    "\n",
    "\n",
    "def parse_json(json_str, key):\n",
    "    data = json.loads(json_str)\n",
    "    return data[key]\n",
    "\n",
    "\n",
    "json_str = \"\"\"\n",
    "{\n",
    "    \"id\": 123,\n",
    "    \"name\": \"Alice\",\n",
    "    \"age\": 30,\n",
    "    \"email\": \"alice@example.com\",\n",
    "    \"address\": {\n",
    "        \"street\": \"123 Main St\",\n",
    "        \"city\": \"Wonderland\",\n",
    "        \"postal_code\": \"12345\"\n",
    "    },\n",
    "    \"preferences\": {\n",
    "        \"notifications\": true,\n",
    "        \"newsletter\": false\n",
    "    },\n",
    "    \"friends\": [\n",
    "        {\n",
    "            \"id\": 456,\n",
    "            \"name\": \"Bob\",\n",
    "            \"age\": 25\n",
    "        },\n",
    "        {\n",
    "            \"id\": 789,\n",
    "            \"name\": \"Charlie\",\n",
    "            \"age\": 35\n",
    "        }\n",
    "    ]\n",
    "}\n",
    "\n",
    "\"\"\"\n",
    "\n",
    "print(parse_json(json_str, \"preferences\"))"
   ]
  }
 ],
 "metadata": {
  "kernelspec": {
   "display_name": "Python 3 (ipykernel)",
   "language": "python",
   "name": "python3"
  },
  "language_info": {
   "codemirror_mode": {
    "name": "ipython",
    "version": 3
   },
   "file_extension": ".py",
   "mimetype": "text/x-python",
   "name": "python",
   "nbconvert_exporter": "python",
   "pygments_lexer": "ipython3",
   "version": "3.9.16"
  }
 },
 "nbformat": 4,
 "nbformat_minor": 2
}
