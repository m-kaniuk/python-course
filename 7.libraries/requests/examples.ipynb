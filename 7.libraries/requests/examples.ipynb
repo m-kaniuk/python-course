{
 "cells": [
  {
   "cell_type": "markdown",
   "metadata": {},
   "source": [
    "# Przykłady wykorzystania bibioteki Requests\n",
    "\n",
    "Uruchom pierwszy fragment kodu, zeby przygotowac notebook."
   ]
  },
  {
   "cell_type": "code",
   "execution_count": null,
   "metadata": {},
   "outputs": [],
   "source": [
    "import json\n",
    "from urllib.parse import urlparse\n",
    "\n",
    "import requests\n",
    "from requests.auth import HTTPBasicAuth\n",
    "from requests.exceptions import HTTPError, RequestException\n",
    "\n",
    "API_TOKEN = \"<token>\"\n",
    "\n",
    "headers = {\n",
    "    \"Authorization\": f\"Bearer {API_TOKEN}\",\n",
    "    \"Content-Type\": \"application/json\",\n",
    "}\n",
    "\n",
    "# Ustawienia\n",
    "url = f\"https://app.eu0.signalfx.com/v2\"\n",
    "\n",
    "# Funkcja pomocnicza do wysyłania żądań HTTP i drukowania wyników\n",
    "def send_request(response):\n",
    "    print(f\"Status Code: {response.status_code}\")\n",
    "    print(f\"Headers: {response.headers}\")\n",
    "    try:\n",
    "        data = response.json()\n",
    "        print(f\"Body (JSON): {json.dumps(data, indent=2)}\")\n",
    "    except ValueError:\n",
    "        print(f\"Body (Text): {response.text}\")\n"
   ]
  },
  {
   "cell_type": "code",
   "execution_count": null,
   "metadata": {},
   "outputs": [],
   "source": [
    "# GET Request with Headers\n",
    "print(\"--- Request with Headers ---\")\n",
    "response = requests.get(f\"{url}/chart\", headers=headers)\n",
    "send_request(response)"
   ]
  },
  {
   "cell_type": "code",
   "execution_count": null,
   "metadata": {},
   "outputs": [],
   "source": [
    "# Request with Query Parameters\n",
    "print(\"--- Request with Query Parameters ---\")\n",
    "params = {\"name\": \"AWS CloudWatch metric API calls (rate/min)\"}\n",
    "response = requests.get(f\"{url}/chart\", headers=headers, params=params)\n",
    "send_request(response)"
   ]
  },
  {
   "cell_type": "code",
   "execution_count": null,
   "metadata": {},
   "outputs": [],
   "source": [
    "# Handling Cookies and Sessions\n",
    "print(\"--- Handling Cookies and Sessions ---\")\n",
    "session = requests.Session()\n",
    "response = session.get(f\"{url}/chart\", headers=headers)\n",
    "send_request(response)\n",
    "print(\"Cookies:\", session.cookies.get_dict())"
   ]
  },
  {
   "cell_type": "code",
   "execution_count": null,
   "metadata": {},
   "outputs": [],
   "source": [
    "# Bearer Token Authentication\n",
    "print(\"--- Bearer Token Authentication ---\")\n",
    "token = API_TOKEN\n",
    "headers = {\"Authorization\": f\"Bearer {token}\"}\n",
    "response = requests.get(f\"{url}/chart\", headers=headers)\n",
    "send_request(response)"
   ]
  },
  {
   "cell_type": "code",
   "execution_count": null,
   "metadata": {},
   "outputs": [],
   "source": [
    "# Setting Timeout\n",
    "print(\"--- Setting Timeout ---\")\n",
    "timeout_url = \"http://192.0.2.123\"\n",
    "try:\n",
    "    response = requests.get(f\"{timeout_url}\", timeout=10)\n",
    "    send_request(response)\n",
    "except requests.Timeout:\n",
    "    print(\"Request timed out\")"
   ]
  },
  {
   "cell_type": "code",
   "execution_count": null,
   "metadata": {},
   "outputs": [],
   "source": [
    "# Handling Redirects\n",
    "print(\"--- Handling Redirects ---\")\n",
    "redirect_url = \"http://httpbin.org/redirect/1\"\n",
    "response = requests.get(redirect_url)\n",
    "send_request(response)"
   ]
  },
  {
   "cell_type": "code",
   "execution_count": null,
   "metadata": {},
   "outputs": [],
   "source": [
    "# urllib.parse - Parsowanie URL-a\n",
    "parsed_url = urlparse(url)\n",
    "print(\"urllib.parse - Full URL:\", url)\n",
    "print(\"urllib.parse - Scheme:\", parsed_url.scheme)\n",
    "print(\"urllib.parse - Netloc:\", parsed_url.netloc)\n",
    "print(\"urllib.parse - Path:\", parsed_url.path)\n"
   ]
  }
 ],
 "metadata": {
  "kernelspec": {
   "display_name": "Python 3 (ipykernel)",
   "language": "python",
   "name": "python3"
  },
  "language_info": {
   "codemirror_mode": {
    "name": "ipython",
    "version": 3
   },
   "file_extension": ".py",
   "mimetype": "text/x-python",
   "name": "python",
   "nbconvert_exporter": "python",
   "pygments_lexer": "ipython3",
   "version": "3.9.16"
  }
 },
 "nbformat": 4,
 "nbformat_minor": 2
}
