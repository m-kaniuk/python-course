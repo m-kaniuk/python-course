{
 "cells": [
  {
   "cell_type": "markdown",
   "metadata": {},
   "source": [
    "# 1. Zakodowanie danych do formatu JSON"
   ]
  },
  {
   "cell_type": "code",
   "execution_count": null,
   "metadata": {},
   "outputs": [],
   "source": [
    "import json \n",
    "\n",
    "data = {\n",
    "    \"imie\": \"Jan\",\n",
    "    \"wiek\": 30,\n",
    "    \"miasto\": \"Warszawa\",\n",
    "    \"umiejętności\": [\"Python\", \"Java\", \"C++\"],\n",
    "}\n",
    "\n",
    "json_data = json.dumps(data)\n",
    "print(\"Zakodowane dane w formacie JSON:\")\n",
    "print(json_data)"
   ]
  },
  {
   "cell_type": "markdown",
   "metadata": {},
   "source": [
    "# Zapisanie danych JSON do pliku\n"
   ]
  },
  {
   "cell_type": "code",
   "execution_count": null,
   "metadata": {},
   "outputs": [],
   "source": [
    "\n",
    "with open(\"dane.json\", \"w\") as file:\n",
    "    json.dump(data, file)\n",
    "    print(\"\\nDane zostały zapisane do pliku 'dane.json'.\")"
   ]
  },
  {
   "cell_type": "markdown",
   "metadata": {},
   "source": [
    "# 2. Zdekodowanie danych z formatu JSON"
   ]
  },
  {
   "cell_type": "code",
   "execution_count": null,
   "metadata": {},
   "outputs": [],
   "source": [
    "decoded_data = json.loads(json_data)\n",
    "print(\"\\nZdekodowane dane z formatu JSON:\")\n",
    "print(decoded_data)"
   ]
  },
  {
   "cell_type": "markdown",
   "metadata": {},
   "source": [
    "# Odczytanie danych JSON z pliku"
   ]
  },
  {
   "cell_type": "code",
   "execution_count": null,
   "metadata": {},
   "outputs": [],
   "source": [
    "with open(\"dane.json\", \"r\") as file:\n",
    "    file_data = json.load(file)\n",
    "    print(\"\\nDane odczytane z pliku 'dane.json':\")\n",
    "    print(file_data)"
   ]
  }
 ],
 "metadata": {
  "kernelspec": {
   "display_name": "Python 3 (ipykernel)",
   "language": "python",
   "name": "python3"
  }
 },
 "nbformat": 4,
 "nbformat_minor": 2
}
