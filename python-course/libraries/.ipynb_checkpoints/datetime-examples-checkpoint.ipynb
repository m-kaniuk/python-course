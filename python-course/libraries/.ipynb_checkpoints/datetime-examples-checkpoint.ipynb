{
 "cells": [
  {
   "cell_type": "code",
   "execution_count": 3,
   "id": "51851f92-0f32-4731-aa12-94ece3ded0ec",
   "metadata": {},
   "outputs": [
    {
     "name": "stdout",
     "output_type": "stream",
     "text": [
      "Current date and time: 2024-08-05 15:23:09.522964\n",
      "Formatted date and time: 2024-08-05 15:23:09\n",
      "Date and time after 10 days: 2024-08-15 15:23:09.522964\n",
      "Parsed date and time: 2024-08-05 12:30:00\n"
     ]
    }
   ],
   "source": [
    "from datetime import datetime, timedelta\n",
    "\n",
    "# 1. Display the current date and time\n",
    "now = datetime.now()\n",
    "print(\"Current date and time:\", now)\n",
    "\n",
    "# 2. Format the date and time as a string\n",
    "formatted_date = now.strftime(\"%Y-%m-%d %H:%M:%S\")\n",
    "print(\"Formatted date and time:\", formatted_date)\n",
    "\n",
    "# 3. Calculate a future date by adding a time delta\n",
    "days_to_add = 10\n",
    "future_date = now + timedelta(days=days_to_add)\n",
    "print(f\"Date and time after {days_to_add} days:\", future_date)\n",
    "\n",
    "# Additional: Parsing a date string into a datetime object\n",
    "date_string = \"2024-08-05 12:30:00\"\n",
    "parsed_date = datetime.strptime(date_string, \"%Y-%m-%d %H:%M:%S\")\n",
    "print(\"Parsed date and time:\", parsed_date)\n"
   ]
  },
  {
   "cell_type": "code",
   "execution_count": null,
   "id": "36d06d67-052c-458a-b78e-964399b14d0b",
   "metadata": {},
   "outputs": [],
   "source": []
  }
 ],
 "metadata": {
  "kernelspec": {
   "display_name": "Python 3 (ipykernel)",
   "language": "python",
   "name": "python3"
  },
  "language_info": {
   "codemirror_mode": {
    "name": "ipython",
    "version": 3
   },
   "file_extension": ".py",
   "mimetype": "text/x-python",
   "name": "python",
   "nbconvert_exporter": "python",
   "pygments_lexer": "ipython3",
   "version": "3.12.4"
  }
 },
 "nbformat": 4,
 "nbformat_minor": 5
}
