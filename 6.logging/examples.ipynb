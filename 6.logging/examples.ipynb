{
 "cells": [
  {
   "cell_type": "markdown",
   "id": "73fd7656-aa7e-43e2-85e2-bea950b3a961",
   "metadata": {},
   "source": [
    "## Logging levels"
   ]
  },
  {
   "cell_type": "code",
   "execution_count": null,
   "id": "f70b9b6c-f5e5-4f20-979c-e86c8d06a23f",
   "metadata": {},
   "outputs": [],
   "source": [
    "import logging\n",
    "\n",
    "# Set up basic configuration for logging\n",
    "logging.basicConfig(level=logging.DEBUG)\n",
    "\n",
    "# Create log messages\n",
    "logging.debug(\"This is a debug message\")\n",
    "logging.info(\"This is an info message\")\n",
    "logging.warning(\"This is a warning message\")\n",
    "logging.error(\"This is an error message\")\n",
    "logging.critical(\"This is a critical message\")\n"
   ]
  },
  {
   "cell_type": "markdown",
   "id": "3875b5c6-d45b-408c-9ab4-c2dec80d0861",
   "metadata": {},
   "source": [
    "## Creating a handler"
   ]
  },
  {
   "cell_type": "code",
   "execution_count": null,
   "id": "10ece1ae-6a40-412b-8c98-53753ea50e13",
   "metadata": {},
   "outputs": [],
   "source": [
    "logger = logging.getLogger(\"my_logger\")\n",
    "handler = logging.FileHandler(\"my_log_file.log\")\n",
    "logger.addHandler(handler)\n",
    "logger.info(\"Hello\")"
   ]
  },
  {
   "cell_type": "markdown",
   "id": "8d702dbc-ac93-4467-9c96-ea3b9624991f",
   "metadata": {},
   "source": [
    "## Creating a formatter"
   ]
  },
  {
   "cell_type": "code",
   "execution_count": null,
   "id": "b4b9fd4e-497a-4398-97c6-c22c45ec77c8",
   "metadata": {},
   "outputs": [],
   "source": [
    "handler = logging.FileHandler(\"my_log_file_with_formatter\")\n",
    "logger.addHandler(handler)\n",
    "formatter = logging.Formatter('%(asctime)s - %(name)s - %(levelname)s - %(message)s')\n",
    "handler.setFormatter(formatter)\n"
   ]
  },
  {
   "cell_type": "code",
   "execution_count": null,
   "id": "697062c2-dac5-43d8-87af-4abaac37e904",
   "metadata": {},
   "outputs": [],
   "source": [
    "logger.info(\"Hi\")\n"
   ]
  },
  {
   "cell_type": "code",
   "execution_count": null,
   "id": "acf3efc0-f753-4f78-9bf2-6eea07f1f85e",
   "metadata": {},
   "outputs": [],
   "source": [
    "array = []\n",
    "try:\n",
    "    array[0] += 1\n",
    "except Exception as e:\n",
    "    logger.error(f\"An error occured: {e}\", exc_info=True)"
   ]
  },
  {
   "cell_type": "code",
   "execution_count": null,
   "id": "fc2f665b-06e2-48c6-bc2d-97d96174f664",
   "metadata": {},
   "outputs": [],
   "source": [
    "array = []\n",
    "try:\n",
    "    array[0] += 1\n",
    "except Exception as e:\n",
    "    logger.error(f\"An error occured: {e}\")"
   ]
  },
  {
   "cell_type": "code",
   "execution_count": null,
   "id": "25882c45-4fc1-485c-830d-748cddb641d3",
   "metadata": {},
   "outputs": [],
   "source": [
    "array = []\n",
    "try:\n",
    "    array[0] += 1\n",
    "except Exception as e:\n",
    "    logger.exception(f\"An error occured: {e}\")"
   ]
  },
  {
   "cell_type": "markdown",
   "id": "f11a918d-1724-4fb9-85f6-4a00a4e5261d",
   "metadata": {},
   "source": [
    "## Logging to files"
   ]
  },
  {
   "cell_type": "code",
   "execution_count": null,
   "id": "ce6cda64-a204-43e6-8ad1-d4904e1a03f8",
   "metadata": {},
   "outputs": [],
   "source": [
    "import logging\n",
    "from logging.handlers import TimedRotatingFileHandler\n",
    "import time\n",
    "\n",
    "# Tworzenie loggera\n",
    "logger = logging.getLogger('my_logger')\n",
    "logger.setLevel(logging.DEBUG)\n",
    "\n",
    "# Tworzenie TimedRotatingFileHandler\n",
    "# Parametry: 'app.log' (nazwa pliku), when='M' (nowy plik co minutę), interval=1 (co 1 jednostkę), backupCount=5 (maksymalnie 5 plików archiwalnych)\n",
    "handler = TimedRotatingFileHandler('app.log', when='M', interval=1, backupCount=5)\n",
    "handler.setLevel(logging.DEBUG)\n",
    "\n",
    "# Tworzenie formattera\n",
    "formatter = logging.Formatter('%(asctime)s - %(name)s - %(levelname)s - %(message)s')\n",
    "handler.setFormatter(formatter)\n",
    "\n",
    "# Dodawanie handlera do loggera\n",
    "logger.addHandler(handler)\n",
    "\n",
    "# Przykładowe logi generowane w pętli co 10 sekund\n",
    "try:\n",
    "    for i in range(10):\n",
    "        logger.debug('This is a debug message')\n",
    "        logger.info('This is an info message')\n",
    "        logger.warning('This is a warning message')\n",
    "        logger.error('This is an error message')\n",
    "        logger.critical('This is a critical message')\n",
    "        time.sleep(10)  # Poczekaj 10 sekund przed wygenerowaniem kolejnych logów\n",
    "except KeyboardInterrupt:\n",
    "    print(\"Logging interrupted.\")\n"
   ]
  }
 ],
 "metadata": {
  "kernelspec": {
   "display_name": "Python 3",
   "language": "python",
   "name": "python3"
  },
  "language_info": {
   "codemirror_mode": {
    "name": "ipython",
    "version": 3
   },
   "file_extension": ".py",
   "mimetype": "text/x-python",
   "name": "python",
   "nbconvert_exporter": "python",
   "pygments_lexer": "ipython3",
   "version": "3.9.16"
  }
 },
 "nbformat": 4,
 "nbformat_minor": 5
}
