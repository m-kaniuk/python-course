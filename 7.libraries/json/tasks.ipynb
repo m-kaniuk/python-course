{
 "cells": [
  {
   "cell_type": "markdown",
   "metadata": {
    "vscode": {
     "languageId": "plaintext"
    }
   },
   "source": [
    "\n",
    "# Zadanie 1: Parsowanie złożonych struktur JSON\n",
    "\n",
    "Napisz funkcję parse_json, która przyjmuje ciąg znaków w formacie JSON zawierający słownik i zwraca wartość dla podanego klucza. Do testowania użyj podanego json_str.\n",
    "\n",
    "\n"
   ]
  },
  {
   "cell_type": "code",
   "execution_count": null,
   "metadata": {},
   "outputs": [],
   "source": [
    "json_str = \"\"\"\n",
    "{\n",
    "    \"id\": 123,\n",
    "    \"name\": \"Alice\",\n",
    "    \"age\": 30,\n",
    "    \"email\": \"alice@example.com\",\n",
    "    \"address\": {\n",
    "        \"street\": \"123 Main St\",\n",
    "        \"city\": \"Wonderland\",\n",
    "        \"postal_code\": \"12345\"\n",
    "    },\n",
    "    \"preferences\": {\n",
    "        \"notifications\": true,\n",
    "        \"newsletter\": false\n",
    "    },\n",
    "    \"friends\": [\n",
    "        {\n",
    "            \"id\": 456,\n",
    "            \"name\": \"Bob\",\n",
    "            \"age\": 25\n",
    "        },\n",
    "        {\n",
    "            \"id\": 789,\n",
    "            \"name\": \"Charlie\",\n",
    "            \"age\": 35\n",
    "        }\n",
    "    ]\n",
    "}\n",
    "\"\"\""
   ]
  }
 ],
 "metadata": {
  "kernelspec": {
   "display_name": "Python 3 (ipykernel)",
   "language": "python",
   "name": "python3"
  }
 },
 "nbformat": 4,
 "nbformat_minor": 2
}
