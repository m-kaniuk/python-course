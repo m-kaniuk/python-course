{
 "cells": [
  {
   "cell_type": "markdown",
   "id": "8006b79d-7752-484e-bb75-dbbf2d299694",
   "metadata": {},
   "source": [
    "## Rozbijanie na funkcje"
   ]
  },
  {
   "cell_type": "code",
   "execution_count": null,
   "id": "faffbff0-1cb9-468e-acd9-f7e5b5dafb44",
   "metadata": {},
   "outputs": [],
   "source": [
    "# Źle\n",
    "def process_user_data(data):\n",
    "    # Parse data\n",
    "    # Validate data\n",
    "    # Save data to database\n",
    "    # Send confirmation email\n"
   ]
  },
  {
   "cell_type": "code",
   "execution_count": null,
   "id": "34f140b3-1377-444c-8cd0-b4380badc490",
   "metadata": {},
   "outputs": [],
   "source": [
    "# Dobrze\n",
    "def parse_data(data):\n",
    "    # Parse data\n",
    "\n",
    "def validate_data(data):\n",
    "    # Validate data\n",
    "\n",
    "def save_to_db(data):\n",
    "    # Save data to database\n",
    "\n",
    "def send_confirmation_email(data):\n",
    "    # Send email"
   ]
  },
  {
   "cell_type": "markdown",
   "id": "022449ec-3824-4242-ae4f-ee2adb2009a9",
   "metadata": {},
   "source": [
    "## 'Magiczne' liczby i stałe"
   ]
  },
  {
   "cell_type": "code",
   "execution_count": null,
   "id": "2abaed62-6611-45df-ba56-1e4d0dbf76cc",
   "metadata": {},
   "outputs": [],
   "source": [
    "# Źle\n",
    "if user_age > 18:\n",
    "    # Do something"
   ]
  },
  {
   "cell_type": "code",
   "execution_count": 1,
   "id": "a27e2169-c158-4746-82f8-4ef6c79a38d6",
   "metadata": {},
   "outputs": [
    {
     "ename": "SyntaxError",
     "evalue": "incomplete input (1794702548.py, line 5)",
     "output_type": "error",
     "traceback": [
      "\u001b[0;36m  Cell \u001b[0;32mIn[1], line 5\u001b[0;36m\u001b[0m\n\u001b[0;31m    # Do something\u001b[0m\n\u001b[0m                  ^\u001b[0m\n\u001b[0;31mSyntaxError\u001b[0m\u001b[0;31m:\u001b[0m incomplete input\n"
     ]
    }
   ],
   "source": [
    "# Dobrze\n",
    "LEGAL_AGE = 18\n",
    "\n",
    "if user_age > LEGAL_AGE:\n",
    "    # Do something"
   ]
  },
  {
   "cell_type": "markdown",
   "id": "bfc1bd20-b162-46a9-aa1a-a8502f155416",
   "metadata": {},
   "source": [
    "## Zagnieżdżenia"
   ]
  },
  {
   "cell_type": "code",
   "execution_count": 2,
   "id": "5b20f825-00d1-48ad-a2c5-c944f68bbaf2",
   "metadata": {},
   "outputs": [],
   "source": [
    "# Źle\n",
    "def process_order(order):\n",
    "    if order is not None:\n",
    "        if order.is_paid:\n",
    "            if order.has_items:\n",
    "                if order.stock_available():\n",
    "                    if order.address_is_valid():\n",
    "                        if order.is_express_delivery:\n",
    "                            print(\"Processing express delivery.\")\n",
    "                            # dalsza logika dla przesyłki ekspresowej\n",
    "                        else:\n",
    "                            print(\"Processing standard delivery.\")\n",
    "                            # dalsza logika dla przesyłki standardowej\n",
    "                    else:\n",
    "                        print(\"Invalid delivery address.\")\n",
    "                else:\n",
    "                    print(\"Insufficient stock.\")\n",
    "            else:\n",
    "                print(\"No items in the order.\")\n",
    "        else:\n",
    "            print(\"Order is not paid.\")\n",
    "    else:\n",
    "        print(\"Order is None.\")"
   ]
  },
  {
   "cell_type": "code",
   "execution_count": null,
   "id": "3ebb96af-92a2-4194-96c9-5cc6a15fffda",
   "metadata": {},
   "outputs": [],
   "source": [
    "# Dobrze\n",
    "def process_order(order):\n",
    "    if order is None:\n",
    "        print(\"Order is None.\")\n",
    "        return\n",
    "    \n",
    "    if not order.is_paid:\n",
    "        print(\"Order is not paid.\")\n",
    "        return\n",
    "    \n",
    "    if not order.has_items:\n",
    "        print(\"No items in the order.\")\n",
    "        return\n",
    "    \n",
    "    if not order.stock_available():\n",
    "        print(\"Insufficient stock.\")\n",
    "        return\n",
    "    \n",
    "    if not order.address_is_valid():\n",
    "        print(\"Invalid delivery address.\")\n",
    "        return\n",
    "    \n",
    "    if order.is_express_delivery:\n",
    "        print(\"Processing express delivery.\")\n",
    "        # dalsza logika dla przesyłki ekspresowej\n",
    "    else:\n",
    "        print(\"Processing standard delivery.\")\n",
    "        # dalsza logika dla przesyłki standardowej\n"
   ]
  },
  {
   "cell_type": "markdown",
   "id": "ab79641d-fdf1-44fe-94a7-efccd905a9fd",
   "metadata": {},
   "source": [
    "## Formatter"
   ]
  },
  {
   "cell_type": "code",
   "execution_count": 3,
   "id": "3e86a5d3-46ee-4ed4-bad5-3f0af455977a",
   "metadata": {},
   "outputs": [
    {
     "ename": "SyntaxError",
     "evalue": "invalid syntax (2157790184.py, line 9)",
     "output_type": "error",
     "traceback": [
      "\u001b[0;36m  Cell \u001b[0;32mIn[3], line 9\u001b[0;36m\u001b[0m\n\u001b[0;31m    def greet_user(name):if name: print( \"Hello,\"+name+\"!\" ); else: print( \"Hello, there!\" )\u001b[0m\n\u001b[0m                         ^\u001b[0m\n\u001b[0;31mSyntaxError\u001b[0m\u001b[0;31m:\u001b[0m invalid syntax\n"
     ]
    }
   ],
   "source": [
    "def say_hello(name):\n",
    "  if name == \"John\": print('Hello, John')\n",
    "  else: print(\"Hello, \" + name)\n",
    "\n",
    "def sum_numbers(a,b): return a+b\n",
    "\n",
    "result=sum_numbers(  5, 10 )\n",
    "print(result)\n"
   ]
  },
  {
   "cell_type": "code",
   "execution_count": null,
   "id": "0feadb08-545a-4051-b368-886d53292353",
   "metadata": {},
   "outputs": [],
   "source": [
    "# Po \n",
    "def say_hello(name):\n",
    "    if name == \"John\":\n",
    "        print(\"Hello, John\")\n",
    "    else:\n",
    "        print(\"Hello, \" + name)\n",
    "\n",
    "\n",
    "def sum_numbers(a, b):\n",
    "    return a + b\n",
    "\n",
    "\n",
    "result = sum_numbers(5, 10)\n",
    "print(result)\n"
   ]
  }
 ],
 "metadata": {
  "kernelspec": {
   "display_name": "Python 3 (ipykernel)",
   "language": "python",
   "name": "python3"
  },
  "language_info": {
   "codemirror_mode": {
    "name": "ipython",
    "version": 3
   },
   "file_extension": ".py",
   "mimetype": "text/x-python",
   "name": "python",
   "nbconvert_exporter": "python",
   "pygments_lexer": "ipython3",
   "version": "3.12.4"
  }
 },
 "nbformat": 4,
 "nbformat_minor": 5
}
