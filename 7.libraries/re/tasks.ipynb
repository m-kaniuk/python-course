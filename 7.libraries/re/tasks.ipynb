{
 "cells": [
  {
   "cell_type": "markdown",
   "metadata": {},
   "source": [
    "# Zadanie 1: Walidacja adresu e-mail\n",
    "\n",
    "Napisz funkcję is_valid_email, która przyjmuje adres e-mail jako argument i zwraca True, jeśli adres jest poprawny, w przeciwnym razie zwraca False. Użyj wyrażenia regularnego do walidacji adresu e-mail."
   ]
  },
  {
   "cell_type": "code",
   "execution_count": null,
   "metadata": {},
   "outputs": [],
   "source": []
  },
  {
   "cell_type": "markdown",
   "metadata": {},
   "source": [
    "# Zadanie 2: Wyszukiwanie numerów telefonów\n",
    "\n",
    "Napisz funkcję find_phone_numbers, która przyjmuje tekst jako argument i zwraca listę wszystkich numerów telefonów w formacie XXX-XXX-XXX znalezionych w tym tekście."
   ]
  },
  {
   "cell_type": "code",
   "execution_count": null,
   "metadata": {},
   "outputs": [],
   "source": []
  }
 ],
 "metadata": {
  "kernelspec": {
   "display_name": "Python 3 (ipykernel)",
   "language": "python",
   "name": "python3"
  }
 },
 "nbformat": 4,
 "nbformat_minor": 2
}
