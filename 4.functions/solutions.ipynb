{
 "cells": [
  {
   "cell_type": "markdown",
   "id": "185d7732",
   "metadata": {},
   "source": [
    "## Zadanie 1: Wartości domyślne w funkcji\n",
    "Napisz funkcję, która oblicza cenę po rabacie. Funkcja powinna przyjmować cenę oryginalną oraz opcjonalny procent rabatu (domyślnie 10%)."
   ]
  },
  {
   "cell_type": "code",
   "execution_count": null,
   "id": "f4101024",
   "metadata": {},
   "outputs": [],
   "source": [
    "def oblicz_cene_po_rabacie(cena, procent_rabatu=10):\n",
    "    rabat = cena * (procent_rabatu / 100)\n",
    "    cena_po_rabacie = cena - rabat\n",
    "    return cena_po_rabacie\n",
    "\n",
    "# Przykładowe użycie funkcji\n",
    "oryginalna_cena = 100\n",
    "procent_rabatu = 15\n",
    "\n",
    "cena_po_rabacie = oblicz_cene_po_rabacie(oryginalna_cena, procent_rabatu)\n",
    "print(f\"Oryginalna cena: {oryginalna_cena} zł\")\n",
    "print(f\"Procent rabatu: {procent_rabatu}%\")\n",
    "print(f\"Cena po rabacie: {cena_po_rabacie} zł\")\n",
    "\n",
    "# Użycie funkcji z domyślnym rabatem\n",
    "cena_po_rabacie_domyslna = oblicz_cene_po_rabacie(oryginalna_cena)\n",
    "print(f\"Oryginalna cena: {oryginalna_cena} zł\")\n",
    "print(f\"Procent rabatu: 10% (domyślny)\")\n",
    "print(f\"Cena po rabacie: {cena_po_rabacie_domyslna} zł\")"
   ]
  },
  {
   "cell_type": "markdown",
   "id": "1ece6acc",
   "metadata": {},
   "source": [
    "## Zadanie 2: Wartość domyślna\n",
    "Napisz funkcję, która przyjmuje liczbę i podnosi ją do kwadratu, chyba że podany jest drugi parametr określający inną potęgę."
   ]
  },
  {
   "cell_type": "code",
   "execution_count": null,
   "id": "9b71789c",
   "metadata": {},
   "outputs": [],
   "source": [
    "def podnies_do_potegi(liczba, potega=2):\n",
    "    return liczba ** potega\n",
    "\n",
    "# Przykładowe użycie funkcji\n",
    "liczba = 5\n",
    "\n",
    "# Podniesienie do kwadratu (domyślna potęga)\n",
    "wynik_kwadrat = podnies_do_potegi(liczba)\n",
    "print(f\"Liczba {liczba} podniesiona do kwadratu to: {wynik_kwadrat}\")\n",
    "\n",
    "# Podniesienie do trzeciej potęgi\n",
    "potega = 3\n",
    "wynik_potega = podnies_do_potegi(liczba, potega)\n",
    "print(f\"Liczba {liczba} podniesiona do potęgi {potega} to: {wynik_potega}\")\n"
   ]
  },
  {
   "cell_type": "markdown",
   "id": "4aaf7646",
   "metadata": {},
   "source": [
    "## Zadanie 3: Zwracanie wielu wartości\n",
    "Napisz funkcję, która przyjmuje listę liczb i zwraca zarówno ich sumę, jak i średnią arytmetyczną."
   ]
  },
  {
   "cell_type": "code",
   "execution_count": null,
   "id": "800e2565",
   "metadata": {},
   "outputs": [],
   "source": [
    "def suma_i_srednia(*args):\n",
    "    suma = sum(args)\n",
    "    srednia = suma / len(args) if args else 0\n",
    "    return suma, srednia\n",
    "\n",
    "suma, średnia = suma_i_srednia(22,55,342,634,1,123,62,1)\n",
    "print(f\"{suma=} {średnia=}\")"
   ]
  },
  {
   "cell_type": "markdown",
   "id": "287fe588-d692-467f-9d64-09ce15ae31de",
   "metadata": {},
   "source": [
    "## Zadanie 4: Liczenie Wystąpień Słów\n",
    "Napisz funkcję, która przyjmuje ciąg znaków (tekst) i zwraca słownik z liczbą wystąpień każdego słowa w tekście.\n",
    "\n",
    "1. Utwórz funkcję licz_wystapienia_slow(tekst), która przyjmuje jeden ciąg znaków tekst.\n",
    "2. Podziel tekst na słowa i policz wystąpienia każdego słowa.\n",
    "3. Przetestuj funkcję na kilku przykładach."
   ]
  },
  {
   "cell_type": "code",
   "execution_count": null,
   "id": "c2abe0a1-0cbf-4322-915d-a60b3114de77",
   "metadata": {},
   "outputs": [],
   "source": [
    "def licz_wystapienia_slow(tekst):\n",
    "    slowa = tekst.split()\n",
    "    wystapienia = {}\n",
    "    for slowo in slowa:\n",
    "        wystapienia[slowo] = wystapienia.get(slowo, 0) + 1\n",
    "    return wystapienia\n",
    "\n",
    "# Przykładowe użycie\n",
    "tekst = \"to jest test to jest tylko test\"\n",
    "print(licz_wystapienia_slow(tekst))  \n",
    "# Output: {'to': 2, 'jest': 2, 'test': 2, 'tylko': 1}\n"
   ]
  },
  {
   "cell_type": "markdown",
   "id": "5a61aac1-39ba-4edc-bb5f-9a2f89651c44",
   "metadata": {},
   "source": [
    "## Zadanie 5: Suma Kwadratów Liczb\n",
    "Napisz funkcję, która przyjmuje listę liczb i zwraca sumę ich kwadratów.\n",
    "\n",
    "1. Utwórz funkcję suma_kwadratow(lista_liczb), która przyjmuje listę liczb lista_liczb.\n",
    "2. Oblicz sumę kwadratów liczb z listy.\n",
    "3. Przetestuj funkcję dla kilku list liczb."
   ]
  },
  {
   "cell_type": "code",
   "execution_count": null,
   "id": "7bcc6c7e-7449-472d-94e1-49ed13e498a5",
   "metadata": {},
   "outputs": [],
   "source": [
    "def suma_kwadratow(lista_liczb):\n",
    "    return sum(x**2 for x in lista_liczb)\n",
    "\n",
    "# Przykładowe użycie\n",
    "print(suma_kwadratow([1, 2, 3, 4, 5]))  # Output: 55\n",
    "print(suma_kwadratow([0, -1, -2]))      # Output: 5\n"
   ]
  },
  {
   "cell_type": "markdown",
   "id": "b3bfef78-f7a8-4cb5-9fb3-d0fb94fc7793",
   "metadata": {},
   "source": [
    "## Zadanie 6: Obliczanie Silni Rekurencją\n",
    "Napisz funkcję, która oblicza silnię (factorial) liczby całkowitej za pomocą rekurencji.\n",
    "\n",
    "1. Utwórz funkcję silnia(n), która przyjmuje jedną liczbę całkowitą n.\n",
    "2. Zaimplementuj rekurencyjny algorytm obliczania silni:\n",
    "3. Jeśli n jest równe 0 lub 1, zwróć 1 (silnia 0 i 1 to 1).\n",
    "4. W przeciwnym razie, zwróć n pomnożone przez wynik wywołania silnia(n-1).\n",
    "5. Przetestuj funkcję dla kilku wartości n."
   ]
  },
  {
   "cell_type": "code",
   "execution_count": null,
   "id": "2b904141-5389-41d9-85f1-1adfe137874b",
   "metadata": {},
   "outputs": [],
   "source": [
    "def silnia(n):\n",
    "    if n == 0 or n == 1:\n",
    "        return 1\n",
    "    else:\n",
    "        return n * silnia(n - 1)\n",
    "\n",
    "# Przykładowe użycie\n",
    "print(silnia(5))  # Output: 120\n",
    "print(silnia(0))  # Output: 1\n",
    "print(silnia(1))  # Output: 1\n",
    "print(silnia(6))  # Output: 720\n",
    "print(silnia(3))  # Output: 6\n"
   ]
  },
  {
   "cell_type": "markdown",
   "id": "0acc958c-b71c-4c18-805c-a3a30a8ccf68",
   "metadata": {},
   "source": [
    "## Zadanie z Lambdą: Obliczenie Funkcji x^3 + 8y^2 + 2z + 6\n",
    "Napisz funkcję, która przyjmuje trzy argumenty: x, y i z, a następnie zwraca wynik wyrażenia x^3 + 8y^2 + 2z + 6, używając funkcji lambda.\n",
    "\n",
    "1. Zdefiniuj funkcję lambda, która oblicza wartość wyrażenia x^3 + 8y^2 + 2z + 6.\n",
    "2. Zwróć wynik obliczenia.\n",
    "3. Przetestuj funkcję na kilku przykładach.\n"
   ]
  },
  {
   "cell_type": "code",
   "execution_count": null,
   "id": "384cd37f-9385-4ebd-96ca-4b1487368553",
   "metadata": {},
   "outputs": [],
   "source": [
    "funkcja = lambda x, y, z: x**3 + 8*y**2 + 2*z + 6\n",
    "\n",
    "# Przykładowe użycie\n",
    "print(funkcja(1, 2, 3))  # Output: 41\n",
    "print(funkcja(0, 0, 0))  # Output: 6\n",
    "print(funkcja(2, 1, 4))  # Output: 30\n",
    "print(funkcja(-1, 2, -3)) # Output: 43\n",
    "print(funkcja(3, 2, 1))  # Output: 117\n"
   ]
  }
 ],
 "metadata": {
  "kernelspec": {
   "display_name": "Python 3 (ipykernel)",
   "language": "python",
   "name": "python3"
  },
  "language_info": {
   "codemirror_mode": {
    "name": "ipython",
    "version": 3
   },
   "file_extension": ".py",
   "mimetype": "text/x-python",
   "name": "python",
   "nbconvert_exporter": "python",
   "pygments_lexer": "ipython3",
   "version": "3.12.4"
  }
 },
 "nbformat": 4,
 "nbformat_minor": 5
}
