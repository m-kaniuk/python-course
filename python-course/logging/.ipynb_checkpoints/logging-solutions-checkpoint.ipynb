{
 "cells": [
  {
   "cell_type": "markdown",
   "id": "412cfb56-315a-4933-8c3a-2d5dbfa9c589",
   "metadata": {},
   "source": [
    "## Zadanie 1: Podstawowe Logowanie do Pliku\n",
    "Skonfiguruj logger, który zapisuje komunikaty logowania do pliku.\n",
    "\n",
    "1. Utwórz logger.\n",
    "2. Skonfiguruj FileHandler do zapisywania logów do pliku basic_log.log.\n",
    "3. Ustaw poziom logowania na DEBUG.\n",
    "4. Zdefiniuj prosty formatter.\n",
    "5. Przetestuj logger, logując komunikaty na różnych poziomach (DEBUG, INFO, WARNING, ERROR, CRITICAL)."
   ]
  },
  {
   "cell_type": "code",
   "execution_count": null,
   "id": "78267e29-fc91-4ec4-9da9-2e3f38e24403",
   "metadata": {},
   "outputs": [],
   "source": []
  },
  {
   "cell_type": "markdown",
   "id": "65111d35-ec71-4a85-8814-48eff4094369",
   "metadata": {},
   "source": [
    "## Zadanie 2: Logowanie na Konsolę i do Pliku\n",
    "Skonfiguruj logger, który wysyła komunikaty logowania zarówno do pliku, jak i na konsolę.\n",
    "\n",
    "1. Utwórz logger.\n",
    "2. Dodaj FileHandler i StreamHandler do loggera.\n",
    "3. Ustaw poziomy logowania i formattery dla każdego handlera.\n",
    "4. Przetestuj logger, logując komunikaty na różnych poziomach."
   ]
  },
  {
   "cell_type": "code",
   "execution_count": null,
   "id": "3c0e1629-34b2-4411-a647-c1bfc52ae90d",
   "metadata": {},
   "outputs": [],
   "source": []
  },
  {
   "cell_type": "markdown",
   "id": "0b872bb0-87fa-4497-8ca4-a5103dc7b7d5",
   "metadata": {},
   "source": [
    "## Zadanie 3: Tworzenie Własnego Formattera\n",
    "Cel: Utwórz własny formatter, który dodaje niestandardowe pole do komunikatów logowania.\n",
    "\n",
    "Hint: [Atrybuty formattera](https://docs.python.org/3/library/logging.html#logrecord-attributes)\n",
    "\n",
    "1. Utwórz logger.\n",
    "2. Utwórz własną klasę formattera, która dodaje niestandardowe pole do komunikatów logowania.\n",
    "3. Dodaj handler z własnym formatterem do loggera.\n",
    "4. Przetestuj logger, logując komunikaty na różnych poziomach."
   ]
  },
  {
   "cell_type": "code",
   "execution_count": null,
   "id": "15cad523-bc3a-4c11-8b71-d6f89bf4b448",
   "metadata": {},
   "outputs": [],
   "source": []
  },
  {
   "cell_type": "markdown",
   "id": "47c95e93-e1de-405b-b6d9-7f4906b1d898",
   "metadata": {},
   "source": [
    "## Zadanie 4: Logowanie na Konsolę z Różnymi Poziomami Logowania\n",
    "Skonfiguruj logger, który wysyła komunikaty logowania na konsolę, ale z różnymi handlerami dla różnych poziomów logowania.\n",
    "\n",
    "1. Utwórz logger.\n",
    "2. Dodaj dwa StreamHandler:\n",
    "3. Jeden do obsługi logów na poziomie DEBUG i wyższych.\n",
    "4. Drugi do obsługi logów na poziomie ERROR i wyższych.\n",
    "5. Ustaw różne formattery dla obu handlerów.\n",
    "6. Przetestuj logger, logując komunikaty na różnych poziomach."
   ]
  },
  {
   "cell_type": "code",
   "execution_count": null,
   "id": "451a5e6e-5fbb-4e01-b98d-2892bf7b6659",
   "metadata": {},
   "outputs": [],
   "source": []
  },
  {
   "cell_type": "markdown",
   "id": "9b298f42-cbe1-406e-b511-412235834d24",
   "metadata": {},
   "source": [
    "## Zadanie 5: Logowanie do Oddzielnych Plików na Podstawie Poziomu Logowania\n",
    "Skonfiguruj logger, który zapisuje komunikaty logowania do różnych plików w zależności od poziomu logowania.\n",
    "\n",
    "\n",
    "1. Utwórz logger.\n",
    "2. Dodaj dwa FileHandler:\n",
    "3. Jeden do zapisywania logów na poziomie INFO i wyższych do pliku info.log.\n",
    "4. Drugi do zapisywania logów na poziomie ERROR i wyższych do pliku error.log.\n",
    "5. Ustaw formattery dla obu handlerów.\n",
    "6. Przetestuj logger, logując komunikaty na różnych poziomach."
   ]
  },
  {
   "cell_type": "code",
   "execution_count": null,
   "id": "d4554acf-582f-4615-a672-0b9da5b9b430",
   "metadata": {},
   "outputs": [],
   "source": []
  }
 ],
 "metadata": {
  "kernelspec": {
   "display_name": "Python 3 (ipykernel)",
   "language": "python",
   "name": "python3"
  },
  "language_info": {
   "codemirror_mode": {
    "name": "ipython",
    "version": 3
   },
   "file_extension": ".py",
   "mimetype": "text/x-python",
   "name": "python",
   "nbconvert_exporter": "python",
   "pygments_lexer": "ipython3",
   "version": "3.12.4"
  }
 },
 "nbformat": 4,
 "nbformat_minor": 5
}
