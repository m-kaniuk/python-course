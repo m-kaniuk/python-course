{
 "cells": [
  {
   "cell_type": "code",
   "execution_count": null,
   "metadata": {},
   "outputs": [],
   "source": [
    "import re\n",
    "\n",
    "# re.match()\n",
    "pattern = r\"\\d+\"\n",
    "text1 = \"123abc\"\n",
    "match = re.match(pattern, text1)\n",
    "if match:\n",
    "    print(\"re.match - Found match:\", match.group())\n",
    "else:\n",
    "    print(\"re.match - No match\")"
   ]
  },
  {
   "cell_type": "code",
   "execution_count": null,
   "metadata": {},
   "outputs": [],
   "source": [
    "# re.search()\n",
    "text2 = \"abc123xyz\"\n",
    "match = re.search(pattern, text2)\n",
    "if match:\n",
    "    print(\"re.search - Found match:\", match.group())\n",
    "else:\n",
    "    print(\"re.search - No match\")"
   ]
  },
  {
   "cell_type": "code",
   "execution_count": null,
   "metadata": {},
   "outputs": [],
   "source": [
    "# re.findall()\n",
    "text3 = \"abc123xyz456\"\n",
    "matches = re.findall(pattern, text3)\n",
    "print(\"re.findall - Found matches:\", matches)"
   ]
  },
  {
   "cell_type": "code",
   "execution_count": null,
   "metadata": {},
   "outputs": [],
   "source": [
    "# re.finditer()\n",
    "matches = re.finditer(pattern, text3)\n",
    "for match in matches:\n",
    "    print(\"re.finditer - Found match:\", match.group())"
   ]
  },
  {
   "cell_type": "code",
   "execution_count": null,
   "metadata": {},
   "outputs": [],
   "source": [
    "# re.sub()\n",
    "new_text = re.sub(pattern, \"#\", text3)\n",
    "print(\"re.sub - Substituted text:\", new_text)"
   ]
  },
  {
   "cell_type": "code",
   "execution_count": null,
   "metadata": {},
   "outputs": [],
   "source": [
    "# re.split()\n",
    "parts = re.split(pattern, text3)\n",
    "print(\"re.split - Split parts:\", parts)\n"
   ]
  }
 ],
 "metadata": {
  "kernelspec": {
   "display_name": "Python 3 (ipykernel)",
   "language": "python",
   "name": "python3"
  },
  "language_info": {
   "codemirror_mode": {
    "name": "ipython",
    "version": 3
   },
   "file_extension": ".py",
   "mimetype": "text/x-python",
   "name": "python",
   "nbconvert_exporter": "python",
   "pygments_lexer": "ipython3",
   "version": "3.9.16"
  }
 },
 "nbformat": 4,
 "nbformat_minor": 2
}
