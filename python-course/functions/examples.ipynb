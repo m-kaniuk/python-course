{
 "cells": [
  {
   "cell_type": "markdown",
   "id": "7390033c",
   "metadata": {},
   "source": [
    "# Funkcje w Pythonie: Przykłady i Wyjaśnienia\n",
    "Funkcje w Pythonie są definiowane za pomocą słowa kluczowego `def`. Mogą przyjmować parametry, wykonywać operacje i zwracać wartości. Poniżej znajdują się przykłady różnych typów funkcji w Pythonie."
   ]
  },
  {
   "cell_type": "markdown",
   "id": "8bfa68b5",
   "metadata": {},
   "source": [
    "## Przykład 1: Podstawowa Funkcja\n",
    "To jest podstawowa funkcja, która nie przyjmuje żadnych parametrów i zwraca string."
   ]
  },
  {
   "cell_type": "code",
   "execution_count": 4,
   "id": "52091fcd",
   "metadata": {},
   "outputs": [
    {
     "name": "stdout",
     "output_type": "stream",
     "text": [
      "Hello, World!!!\n"
     ]
    }
   ],
   "source": [
    "def greet():\n",
    "    return 'Hello, World!!!'\n",
    "\n",
    "print(greet())  # Output: Hello, World!"
   ]
  },
  {
   "cell_type": "code",
   "execution_count": 3,
   "id": "836ef9a0-a598-42e0-9854-6ef68782dca8",
   "metadata": {},
   "outputs": [
    {
     "name": "stdout",
     "output_type": "stream",
     "text": [
      "Hello, Jan from Kraków!!!\n"
     ]
    }
   ],
   "source": [
    "def greet_person(name, city):\n",
    "    return f'Hello, {name} from {city}!!!'\n",
    "\n",
    "print(greet_person(\"Jan\", \"Kraków\"))  # Output: Hello, Jan from Kraków!!!"
   ]
  },
  {
   "cell_type": "markdown",
   "id": "87950ad1",
   "metadata": {},
   "source": [
    "## Przykład 2: Funkcja z Parametrami\n",
    "Funkcje mogą przyjmować parametry, aby były bardziej elastyczne."
   ]
  },
  {
   "cell_type": "code",
   "execution_count": 11,
   "id": "052aa0e6",
   "metadata": {},
   "outputs": [
    {
     "name": "stdout",
     "output_type": "stream",
     "text": [
      "3\n",
      "6\n",
      "8\n",
      "6\n",
      "3.0\n"
     ]
    }
   ],
   "source": [
    "def add(a, b):\n",
    "    return a + b\n",
    "\n",
    "print(add(a=1, b=2))\n",
    "print(add(4,2))\n",
    "\n",
    "# Wywołanie funkcji\n",
    "print(add(3, 5))  # Output: 8\n",
    "print(add(-1, 7))  # Output: 6\n",
    "\n",
    "def divide(numerator, denominator):\n",
    "    return numerator / denominator\n",
    "\n",
    "print(divide(denominator=2, numerator=6))  # Output: 3.0\n"
   ]
  },
  {
   "cell_type": "markdown",
   "id": "092a33c4",
   "metadata": {},
   "source": [
    "## Przykład 3: Funkcja z Parametrami Domyślnymi\n",
    "Możesz zdefiniować domyślne wartości dla parametrów."
   ]
  },
  {
   "cell_type": "code",
   "execution_count": 3,
   "id": "2b08b42c",
   "metadata": {},
   "outputs": [
    {
     "name": "stdout",
     "output_type": "stream",
     "text": [
      "Hello, World!\n",
      "Hello, Alice!\n"
     ]
    }
   ],
   "source": [
    "def greet(name='World'):\n",
    "    return f'Hello, {name}!'\n",
    "\n",
    "# Wywołanie funkcji\n",
    "print(greet())  # Output: Hello, World!\n",
    "print(greet('Alice'))  # Output: Hello, Alice!"
   ]
  },
  {
   "cell_type": "markdown",
   "id": "b617508b",
   "metadata": {},
   "source": [
    "## Przykład 4: Funkcje Lambda\n",
    "Funkcje Lambda to małe anonimowe funkcje definiowane za pomocą słowa kluczowego `lambda`. Mogą mieć dowolną liczbę argumentów, ale tylko jedno wyrażenie."
   ]
  },
  {
   "cell_type": "code",
   "execution_count": 10,
   "id": "02a07210",
   "metadata": {},
   "outputs": [
    {
     "name": "stdout",
     "output_type": "stream",
     "text": [
      "8\n"
     ]
    }
   ],
   "source": [
    "add = lambda x, y: x + y\n",
    "\n",
    "# Wywołanie funkcji lambda\n",
    "print(add(3, 5))  # Output: 8"
   ]
  },
  {
   "cell_type": "markdown",
   "id": "0f5ca1bc",
   "metadata": {},
   "source": [
    "## Przykład 5: Funkcje Wyższego Rzędu\n",
    "Funkcje, które przyjmują inne funkcje jako argumenty lub je zwracają, są znane jako funkcje wyższego rzędu."
   ]
  },
  {
   "cell_type": "code",
   "execution_count": 7,
   "id": "b88b0cc8",
   "metadata": {},
   "outputs": [
    {
     "name": "stdout",
     "output_type": "stream",
     "text": [
      "16\n"
     ]
    }
   ],
   "source": [
    "def apply_func(func, value):\n",
    "    return func(value)\n",
    "\n",
    "def square(x):\n",
    "    return x ** 2\n",
    "\n",
    "# Wywołanie funkcji wyższego rzędu\n",
    "print(apply_func(square, 4))  # Output: 16"
   ]
  },
  {
   "cell_type": "markdown",
   "id": "4600ba29",
   "metadata": {},
   "source": [
    "## Przykład 6: Rekurencja\n",
    "Funkcja może wywoływać samą siebie. Jest to znane jako rekurencja. Poniższy przykład oblicza silnię liczby."
   ]
  },
  {
   "cell_type": "code",
   "execution_count": 3,
   "id": "90be738c",
   "metadata": {},
   "outputs": [
    {
     "name": "stdout",
     "output_type": "stream",
     "text": [
      "1\n"
     ]
    }
   ],
   "source": [
    "def factorial(n):\n",
    "    if n < 2:\n",
    "        return 1\n",
    "    else:\n",
    "        return n * factorial(n-1)\n",
    "\n",
    "# Wywołanie funkcji rekurencyjnej\n",
    "print(factorial(0))  # Output: 120\n"
   ]
  },
  {
   "cell_type": "raw",
   "id": "b7a92eb4-cc26-4da0-9967-49105cc8942c",
   "metadata": {},
   "source": [
    "## Przykład 8: yield"
   ]
  },
  {
   "cell_type": "code",
   "execution_count": 4,
   "id": "697a903f-46a0-4c99-aba0-ab46789843b7",
   "metadata": {},
   "outputs": [
    {
     "name": "stdout",
     "output_type": "stream",
     "text": [
      "0\n",
      "1\n",
      "1\n",
      "2\n",
      "3\n",
      "5\n",
      "8\n",
      "13\n",
      "21\n",
      "34\n"
     ]
    }
   ],
   "source": [
    "def fibonacci():\n",
    "    a, b = 0, 1\n",
    "    while True:\n",
    "        yield a\n",
    "        a, b = b, a + b\n",
    "\n",
    "fib = fibonacci()\n",
    "for _ in range(10):\n",
    "    print(next(fib))"
   ]
  },
  {
   "cell_type": "markdown",
   "id": "ad9cdb69-003d-4d6d-b7e1-fb20ee2f0981",
   "metadata": {},
   "source": [
    "## Przykład 7: Pass by value"
   ]
  },
  {
   "cell_type": "code",
   "execution_count": 16,
   "id": "20bc7e79-6433-4c76-a7c3-da1ae0104e71",
   "metadata": {},
   "outputs": [
    {
     "name": "stdout",
     "output_type": "stream",
     "text": [
      "Before: 5\n",
      "Inside function: 15\n",
      "After: 5\n"
     ]
    }
   ],
   "source": [
    "def modify_immutable(x):\n",
    "    x += 10  # Tworzenie nowej lokalnej zmiennej\n",
    "    print(f\"Inside function: {x}\")  # Output: Inside function: 10\n",
    "\n",
    "a = 5\n",
    "print(f\"Before: {a}\")  # Output: Before: 5\n",
    "modify_immutable(a)\n",
    "print(f\"After: {a}\")  # Output: After: 5\n"
   ]
  },
  {
   "cell_type": "markdown",
   "id": "1a5746d9-e5a0-4020-ae96-aab9722e7a6c",
   "metadata": {},
   "source": [
    "## Przykład 8: Pass by reference"
   ]
  },
  {
   "cell_type": "code",
   "execution_count": 13,
   "id": "372e1fc6-2e41-47cd-a7a6-dbe391fd13bc",
   "metadata": {},
   "outputs": [
    {
     "name": "stdout",
     "output_type": "stream",
     "text": [
      "Before: [1, 2, 3]\n",
      "Inside function: [1, 2, 3, 4]\n",
      "After: [1, 2, 3, 4]\n"
     ]
    }
   ],
   "source": [
    "def modify_mutable(lst):\n",
    "    lst.append(4)  # Modyfikacja oryginalnej listy\n",
    "    print(f\"Inside function: {lst}\")  # Output: Inside function: [1, 2, 3, 4]\n",
    "\n",
    "my_list = [1, 2, 3]\n",
    "print(f\"Before: {my_list}\")  # Output: Before: [1, 2, 3]\n",
    "modify_mutable(my_list)\n",
    "print(f\"After: {my_list}\")  # Output: After: [1, 2, 3, 4]\n"
   ]
  },
  {
   "cell_type": "markdown",
   "id": "4598364d",
   "metadata": {},
   "source": [
    "## Podsumowanie\n",
    "Funkcje są fundamentalnym aspektem programowania w Pythonie. Pomagają w organizacji kodu w bloki wielokrotnego użytku. Powyższe przykłady demonstrują różne sposoby definiowania i używania funkcji w Pythonie."
   ]
  }
 ],
 "metadata": {
  "kernelspec": {
   "display_name": "Python 3 (ipykernel)",
   "language": "python",
   "name": "python3"
  },
  "language_info": {
   "codemirror_mode": {
    "name": "ipython",
    "version": 3
   },
   "file_extension": ".py",
   "mimetype": "text/x-python",
   "name": "python",
   "nbconvert_exporter": "python",
   "pygments_lexer": "ipython3",
   "version": "3.12.4"
  }
 },
 "nbformat": 4,
 "nbformat_minor": 5
}
