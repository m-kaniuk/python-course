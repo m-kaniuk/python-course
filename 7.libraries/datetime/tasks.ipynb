{
 "cells": [
  {
   "cell_type": "markdown",
   "metadata": {},
   "source": [
    "# Zadanie 1: Zmiana formatowania daty\n",
    "\n",
    "Napisz funkcję reformat_date, która przyjmuje datę w formacie MM/DD/YYYY i zwraca ją w formacie YYYY-MM-DD.\n",
    "\n",
    "Hint: uzyj strptime i strftime\n"
   ]
  },
  {
   "cell_type": "code",
   "execution_count": null,
   "metadata": {
    "vscode": {
     "languageId": "plaintext"
    }
   },
   "outputs": [],
   "source": []
  },
  {
   "cell_type": "markdown",
   "metadata": {},
   "source": [
    "# Zadanie 2: Obliczanie wieku w dniach\n",
    "\n",
    "Uzupełnij funkcję calculate_age, która przyjmuje datę urodzenia w formacie YYYY-MM-DD i zwraca wiek w dniach."
   ]
  },
  {
   "cell_type": "code",
   "execution_count": null,
   "metadata": {
    "vscode": {
     "languageId": "plaintext"
    }
   },
   "outputs": [],
   "source": []
  }
 ],
 "metadata": {
  "language_info": {
   "name": "python"
  }
 },
 "nbformat": 4,
 "nbformat_minor": 2
}
