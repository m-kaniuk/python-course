{
 "cells": [
  {
   "cell_type": "markdown",
   "id": "73fd7656-aa7e-43e2-85e2-bea950b3a961",
   "metadata": {},
   "source": [
    "## Logging levels"
   ]
  },
  {
   "cell_type": "code",
   "execution_count": 2,
   "id": "f70b9b6c-f5e5-4f20-979c-e86c8d06a23f",
   "metadata": {},
   "outputs": [
    {
     "name": "stderr",
     "output_type": "stream",
     "text": [
      "DEBUG:root:This is a debug message\n",
      "INFO:root:This is an info message\n",
      "WARNING:root:This is a warning message\n",
      "ERROR:root:This is an error message\n",
      "CRITICAL:root:This is a critical message\n"
     ]
    }
   ],
   "source": [
    "import logging\n",
    "\n",
    "# Set up basic configuration for logging\n",
    "logging.basicConfig(level=logging.DEBUG)\n",
    "\n",
    "# Create log messages\n",
    "logging.debug(\"This is a debug message\")\n",
    "logging.info(\"This is an info message\")\n",
    "logging.warning(\"This is a warning message\")\n",
    "logging.error(\"This is an error message\")\n",
    "logging.critical(\"This is a critical message\")\n"
   ]
  },
  {
   "cell_type": "markdown",
   "id": "3875b5c6-d45b-408c-9ab4-c2dec80d0861",
   "metadata": {},
   "source": [
    "## Creating a handler"
   ]
  },
  {
   "cell_type": "code",
   "execution_count": 40,
   "id": "10ece1ae-6a40-412b-8c98-53753ea50e13",
   "metadata": {},
   "outputs": [],
   "source": [
    "logger = logging.getLogger(\"my_logger\")\n",
    "handler = logging.FileHandler(\"my_log_file\")\n",
    "logger.addHandler(handler)\n",
    "logger.info(\"Hello\")"
   ]
  },
  {
   "cell_type": "markdown",
   "id": "8d702dbc-ac93-4467-9c96-ea3b9624991f",
   "metadata": {},
   "source": [
    "## Creating a formatter"
   ]
  },
  {
   "cell_type": "code",
   "execution_count": null,
   "id": "b4b9fd4e-497a-4398-97c6-c22c45ec77c8",
   "metadata": {},
   "outputs": [],
   "source": [
    "handler = logging.FileHandler(\"my_log_file_with_formatter\")\n",
    "logger.addHandler(handler)\n",
    "formatter = logging.Formatter('%(asctime)s - %(name)s - %(levelname)s - %(message)s')\n",
    "handler.setFormatter(formatter)\n"
   ]
  },
  {
   "cell_type": "code",
   "execution_count": 41,
   "id": "697062c2-dac5-43d8-87af-4abaac37e904",
   "metadata": {},
   "outputs": [
    {
     "name": "stdout",
     "output_type": "stream",
     "text": [
      "2024-08-05 11:32:04,651 Hi\n"
     ]
    }
   ],
   "source": [
    "logger.info(\"Hi\")\n"
   ]
  },
  {
   "cell_type": "code",
   "execution_count": 26,
   "id": "acf3efc0-f753-4f78-9bf2-6eea07f1f85e",
   "metadata": {},
   "outputs": [
    {
     "name": "stdout",
     "output_type": "stream",
     "text": [
      "2024-08-05 11:20:35,793 An error occured: list index out of range\n",
      "Traceback (most recent call last):\n",
      "  File \"/var/folders/8w/7f8w0qpj325_l5mwrzs2q2mc0000gp/T/ipykernel_92876/2816826758.py\", line 3, in <module>\n",
      "    array[0] += 1\n",
      "    ~~~~~^^^\n",
      "IndexError: list index out of range\n"
     ]
    }
   ],
   "source": [
    "array = []\n",
    "try:\n",
    "    array[0] += 1\n",
    "except Exception as e:\n",
    "    logger.error(f\"An error occured: {e}\", exc_info=True)"
   ]
  },
  {
   "cell_type": "markdown",
   "id": "f11a918d-1724-4fb9-85f6-4a00a4e5261d",
   "metadata": {},
   "source": [
    "## Logging to a file"
   ]
  },
  {
   "cell_type": "code",
   "execution_count": 25,
   "id": "fc2f665b-06e2-48c6-bc2d-97d96174f664",
   "metadata": {},
   "outputs": [
    {
     "name": "stdout",
     "output_type": "stream",
     "text": [
      "2024-08-05 11:20:34,585 An error occured: list index out of range\n"
     ]
    }
   ],
   "source": [
    "array = []\n",
    "try:\n",
    "    array[0] += 1\n",
    "except Exception as e:\n",
    "    logger.error(f\"An error occured: {e}\")"
   ]
  },
  {
   "cell_type": "code",
   "execution_count": 27,
   "id": "25882c45-4fc1-485c-830d-748cddb641d3",
   "metadata": {},
   "outputs": [
    {
     "name": "stdout",
     "output_type": "stream",
     "text": [
      "2024-08-05 11:20:37,146 An error occured: list index out of range\n",
      "Traceback (most recent call last):\n",
      "  File \"/var/folders/8w/7f8w0qpj325_l5mwrzs2q2mc0000gp/T/ipykernel_92876/1569574026.py\", line 3, in <module>\n",
      "    array[0] += 1\n",
      "    ~~~~~^^^\n",
      "IndexError: list index out of range\n"
     ]
    }
   ],
   "source": [
    "array = []\n",
    "try:\n",
    "    array[0] += 1\n",
    "except Exception as e:\n",
    "    logger.exception(f\"An error occured: {e}\")"
   ]
  },
  {
   "cell_type": "code",
   "execution_count": 3,
   "id": "cc468e75-0432-40f6-ac2f-b3c0959c3a08",
   "metadata": {},
   "outputs": [
    {
     "name": "stderr",
     "output_type": "stream",
     "text": [
      "INFO:my_logger:This is an info message with special keyword\n"
     ]
    }
   ],
   "source": [
    "# Tworzenie loggera\n",
    "logger = logging.getLogger('my_logger')\n",
    "logger.setLevel(logging.DEBUG)\n",
    "\n",
    "# Tworzenie handlerów\n",
    "file_handler = logging.FileHandler('app.log')\n",
    "console_handler = logging.StreamHandler()\n",
    "\n",
    "# Tworzenie formattera\n",
    "formatter = logging.Formatter('%(asctime)s - %(name)s - %(levelname)s - %(message)s')\n",
    "\n",
    "# Ustawianie formattera na handlerach\n",
    "file_handler.setFormatter(formatter)\n",
    "console_handler.setFormatter(formatter)\n",
    "\n",
    "# Tworzenie filtra\n",
    "class MyFilter(logging.Filter):\n",
    "    def filter(self, record):\n",
    "        return 'special' in record.msg\n",
    "\n",
    "# Dodawanie filtra do loggera\n",
    "logger.addFilter(MyFilter())\n",
    "\n",
    "# Dodawanie handlerów do loggera\n",
    "logger.addHandler(file_handler)\n",
    "logger.addHandler(console_handler)\n",
    "\n",
    "# Przykładowe logi\n",
    "logger.debug('This is a debug message')\n",
    "logger.info('This is an info message with special keyword')\n",
    "logger.warning('This is a warning message')\n",
    "logger.error('This is an error message')\n",
    "logger.critical('This is a critical message')\n"
   ]
  },
  {
   "cell_type": "code",
   "execution_count": 17,
   "id": "343d1953-14a3-43ef-9c23-d56ca8056d82",
   "metadata": {},
   "outputs": [
    {
     "name": "stdin",
     "output_type": "stream",
     "text": [
      "Podaj pierwszą liczbę:  10\n",
      "Podaj drugą liczbę:  20\n"
     ]
    },
    {
     "name": "stdout",
     "output_type": "stream",
     "text": [
      "Wynik dzielenia 10.0 przez 20.0 to 0.5\n"
     ]
    }
   ],
   "source": [
    "def divide_numbers():\n",
    "    try:\n",
    "        # Pobieranie danych wejściowych od użytkownika\n",
    "        num1 = float(input(\"Podaj pierwszą liczbę: \"))\n",
    "        num2 = float(input(\"Podaj drugą liczbę: \"))\n",
    "        \n",
    "        # Próba wykonania operacji dzielenia\n",
    "        result = num1 / num2\n",
    "        print(f\"Wynik dzielenia {num1} przez {num2} to {result}\")\n",
    "    \n",
    "    except ZeroDivisionError:\n",
    "        # Obsługa przypadku dzielenia przez zero\n",
    "        print(\"Błąd: Nie można dzielić przez zero.\")\n",
    "    \n",
    "    except ValueError:\n",
    "        # Obsługa przypadku nieprawidłowej konwersji danych wejściowych\n",
    "        print(\"Błąd: Wprowadzono nieprawidłowe dane. Upewnij się, że wpisujesz liczby.\")\n",
    "\n",
    "# Wywołanie funkcji\n",
    "divide_numbers()\n"
   ]
  },
  {
   "cell_type": "code",
   "execution_count": 18,
   "id": "32e37175-7cd2-450d-a1b2-58828ac1edb7",
   "metadata": {},
   "outputs": [
    {
     "name": "stdout",
     "output_type": "stream",
     "text": [
      "Wynik dzielenia 10 przez 2 to 5.0\n",
      "Operacja dzielenia zakończona.\n",
      "Błąd: Nie można dzielić przez zero.\n",
      "Operacja dzielenia zakończona.\n"
     ]
    }
   ],
   "source": [
    "def divide(a, b):\n",
    "    try:\n",
    "        # Próbujemy podzielić a przez b\n",
    "        result = a / b\n",
    "    except ZeroDivisionError:\n",
    "        # Blok except, który przechwytuje wyjątek dzielenia przez zero\n",
    "        print(\"Błąd: Nie można dzielić przez zero.\")\n",
    "    else:\n",
    "        # Blok else, który wykonuje się tylko, jeśli nie wystąpił żaden wyjątek\n",
    "        print(f\"Wynik dzielenia {a} przez {b} to {result}\")\n",
    "    finally:\n",
    "        # Blok finally, który wykonuje się zawsze, niezależnie od tego, czy wystąpił wyjątek, czy nie\n",
    "        print(\"Operacja dzielenia zakończona.\")\n",
    "\n",
    "# Przykłady użycia funkcji divide\n",
    "divide(10, 2)  # Powinno wyświetlić wynik dzielenia\n",
    "divide(10, 0)  # Powinno wyświetlić komunikat o błędzie dzielenia przez zero\n"
   ]
  },
  {
   "cell_type": "code",
   "execution_count": null,
   "id": "0de9ce50-29e8-4337-a012-f8403c952e49",
   "metadata": {},
   "outputs": [],
   "source": []
  }
 ],
 "metadata": {
  "kernelspec": {
   "display_name": "Python 3 (ipykernel)",
   "language": "python",
   "name": "python3"
  },
  "language_info": {
   "codemirror_mode": {
    "name": "ipython",
    "version": 3
   },
   "file_extension": ".py",
   "mimetype": "text/x-python",
   "name": "python",
   "nbconvert_exporter": "python",
   "pygments_lexer": "ipython3",
   "version": "3.12.4"
  }
 },
 "nbformat": 4,
 "nbformat_minor": 5
}
