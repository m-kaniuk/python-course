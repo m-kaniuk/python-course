{
 "cells": [
  {
   "cell_type": "markdown",
   "metadata": {},
   "source": [
    "# 1. Pomiar czasu wykonania fragmentu kodu"
   ]
  },
  {
   "cell_type": "code",
   "execution_count": 3,
   "metadata": {},
   "outputs": [
    {
     "name": "stdout",
     "output_type": "stream",
     "text": [
      "Czas wykonania: 0.034087 sekund\n"
     ]
    }
   ],
   "source": [
    "import time\n",
    "\n",
    "start_time = time.time()\n",
    "\n",
    "# Przykładowy blok kodu\n",
    "for i in range(1000000):\n",
    "    pass  # Symulacja pracy przy użyciu pętli\n",
    "\n",
    "end_time = time.time()\n",
    "execution_time = end_time - start_time\n",
    "print(f\"Czas wykonania: {execution_time:.6f} sekund\")\n"
   ]
  },
  {
   "cell_type": "markdown",
   "metadata": {},
   "source": [
    "# 2. Formatowanie bieżącego czasu\n"
   ]
  },
  {
   "cell_type": "code",
   "execution_count": 4,
   "metadata": {},
   "outputs": [
    {
     "name": "stdout",
     "output_type": "stream",
     "text": [
      "Bieżący czas: 2024-11-21 12:51:40\n"
     ]
    }
   ],
   "source": [
    "current_time = time.localtime()\n",
    "formatted_time = time.strftime(\"%Y-%m-%d %H:%M:%S\", current_time)\n",
    "print(f\"Bieżący czas: {formatted_time}\")"
   ]
  },
  {
   "cell_type": "markdown",
   "metadata": {},
   "source": [
    "# 3. Wstrzymanie wykonania programu przy użyciu sleep"
   ]
  },
  {
   "cell_type": "code",
   "execution_count": null,
   "metadata": {},
   "outputs": [
    {
     "name": "stdout",
     "output_type": "stream",
     "text": [
      "Wstrzymanie wykonania na 3 sekundy...\n",
      "Kontynuacja wykonania po 3 sekundach\n",
      "Cześć, Jan!\n",
      "Cześć, Maria!\n",
      "Cześć, Adam!\n"
     ]
    }
   ],
   "source": [
    "print(\"Wstrzymanie wykonania na 3 sekundy...\")\n",
    "time.sleep(3)\n",
    "print(\"Kontynuacja wykonania po 3 sekundach\")"
   ]
  }
 ],
 "metadata": {
  "kernelspec": {
   "display_name": "Python 3 (ipykernel)",
   "language": "python",
   "name": "python3"
  },
  "language_info": {
   "codemirror_mode": {
    "name": "ipython",
    "version": 3
   },
   "file_extension": ".py",
   "mimetype": "text/x-python",
   "name": "python",
   "nbconvert_exporter": "python",
   "pygments_lexer": "ipython3",
   "version": "3.9.16"
  }
 },
 "nbformat": 4,
 "nbformat_minor": 2
}
