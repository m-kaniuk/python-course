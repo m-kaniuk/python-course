{
 "cells": [
  {
   "cell_type": "markdown",
   "metadata": {},
   "source": [
    "# Zadanie 1: Walidacja adresu e-mail\n",
    "\n",
    "Napisz funkcję is_valid_email, która przyjmuje adres e-mail jako argument i zwraca True, jeśli adres jest poprawny, w przeciwnym razie zwraca False. Użyj wyrażenia regularnego do walidacji adresu e-mail."
   ]
  },
  {
   "cell_type": "code",
   "execution_count": null,
   "metadata": {},
   "outputs": [],
   "source": [
    "import re\n",
    "\n",
    "\n",
    "def is_valid_email(email):\n",
    "    pattern = r\"^[a-zA-Z0-9._%+-]+@[a-zA-Z0-9.-]+\\.[a-zA-Z]{2,}$\"\n",
    "    return re.match(pattern, email) is not None\n",
    "\n",
    "\n",
    "# Przykład użycia\n",
    "email = \"test@example.com\"\n",
    "print(is_valid_email(email))  # Powinno zwrócić True\n",
    "\n",
    "email = \"invalid-email\"\n",
    "print(is_valid_email(email))  # Powinno zwrócić False"
   ]
  },
  {
   "cell_type": "markdown",
   "metadata": {},
   "source": [
    "# Zadanie 2: Wyszukiwanie numerów telefonów\n",
    "\n",
    "Napisz funkcję find_phone_numbers, która przyjmuje tekst jako argument i zwraca listę wszystkich numerów telefonów w formacie XXX-XXX-XXX znalezionych w tym tekście."
   ]
  },
  {
   "cell_type": "code",
   "execution_count": null,
   "metadata": {},
   "outputs": [],
   "source": [
    "import re\n",
    "\n",
    "\n",
    "def find_phone_numbers(text):\n",
    "    pattern = r\"\\b\\d{3}-\\d{3}-\\d{3}\\b\"\n",
    "    return re.findall(pattern, text)\n",
    "\n",
    "\n",
    "# Przykład użycia\n",
    "text = \"Contact us at 123-456-790 or 987-654-310.\"\n",
    "print(find_phone_numbers(text))  # Powinno zwrócić ['123-456-790', '987-654-310']"
   ]
  }
 ],
 "metadata": {
  "kernelspec": {
   "display_name": "Python 3 (ipykernel)",
   "language": "python",
   "name": "python3"
  }
 },
 "nbformat": 4,
 "nbformat_minor": 2
}
