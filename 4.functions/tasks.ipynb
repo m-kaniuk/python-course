{
 "cells": [
  {
   "cell_type": "markdown",
   "id": "185d7732",
   "metadata": {},
   "source": [
    "## Zadanie 1: Wartości domyślne w funkcji\n",
    "Napisz funkcję, która oblicza cenę po rabacie. Funkcja powinna przyjmować cenę oryginalną oraz opcjonalny procent rabatu (domyślnie 10%)."
   ]
  },
  {
   "cell_type": "code",
   "execution_count": null,
   "id": "f4101024",
   "metadata": {},
   "outputs": [],
   "source": []
  },
  {
   "cell_type": "markdown",
   "id": "1ece6acc",
   "metadata": {},
   "source": [
    "## Zadanie 2: Wartość domyślna\n",
    "Napisz funkcję, która przyjmuje liczbę i podnosi ją do kwadratu, chyba że podany jest drugi parametr określający inną potęgę."
   ]
  },
  {
   "cell_type": "code",
   "execution_count": null,
   "id": "9b71789c",
   "metadata": {},
   "outputs": [],
   "source": []
  },
  {
   "cell_type": "markdown",
   "id": "4aaf7646",
   "metadata": {},
   "source": [
    "## Zadanie 3: Zwracanie wielu wartości\n",
    "Napisz funkcję, która przyjmuje listę liczb i zwraca zarówno ich sumę, jak i średnią arytmetyczną."
   ]
  },
  {
   "cell_type": "code",
   "execution_count": null,
   "id": "800e2565",
   "metadata": {},
   "outputs": [],
   "source": []
  },
  {
   "cell_type": "markdown",
   "id": "d23ab0eb-6e4c-4938-b362-619b614cbf17",
   "metadata": {},
   "source": [
    "## Zadanie 4: Liczenie Wystąpień Litery\n",
    "Napisz funkcję, która przyjmuje ciąg znaków (tekst) oraz literę i zwraca liczbę wystąpień podanej litery.\n",
    "\n",
    "1. Utwórz funkcję licz_wystapienia_litery(tekst, litera), która przyjmuje jeden ciąg znaków i szukaną literę.\n",
    "2. Policz wystąpienia każdej litery.\n",
    "3. Przetestuj funkcję na kilku przykładach."
   ]
  },
  {
   "cell_type": "code",
   "execution_count": null,
   "id": "31859a62-1443-48eb-a0f5-d230e5080a88",
   "metadata": {},
   "outputs": [],
   "source": []
  },
  {
   "cell_type": "markdown",
   "id": "b9df858e-bb64-49d4-8587-434c2c4af5aa",
   "metadata": {},
   "source": [
    "## Zadanie 5: Suma Kwadratów Liczb\n",
    "Napisz funkcję, która przyjmuje listę liczb i zwraca sumę ich kwadratów.\n",
    "\n",
    "1. Utwórz funkcję suma_kwadratow(lista_liczb), która przyjmuje listę liczb lista_liczb.\n",
    "2. Oblicz sumę kwadratów liczb z listy.\n",
    "3. Przetestuj funkcję dla kilku list liczb."
   ]
  },
  {
   "cell_type": "code",
   "execution_count": null,
   "id": "8813ff9e-5bcf-4190-8595-0c9bacb90b14",
   "metadata": {},
   "outputs": [],
   "source": []
  },
  {
   "cell_type": "markdown",
   "id": "1403a236-0e71-44ac-906b-1f30495c64cf",
   "metadata": {},
   "source": [
    "## Zadanie 6: Obliczanie Silni Rekurencją\n",
    "Napisz funkcję, która oblicza silnię (factorial) liczby całkowitej za pomocą rekurencji.\n",
    "\n",
    "1. Utwórz funkcję silnia(n), która przyjmuje jedną liczbę całkowitą n.\n",
    "2. Zaimplementuj rekurencyjny algorytm obliczania silni:\n",
    "3. Jeśli n jest równe 0 lub 1, zwróć 1 (silnia 0 i 1 to 1).\n",
    "4. W przeciwnym razie, zwróć n pomnożone przez wynik wywołania silnia(n-1).\n",
    "5. Przetestuj funkcję dla kilku wartości n."
   ]
  },
  {
   "cell_type": "code",
   "execution_count": null,
   "id": "2166da7e-93dc-4a5e-860f-640f032fb435",
   "metadata": {},
   "outputs": [],
   "source": []
  },
  {
   "cell_type": "markdown",
   "id": "46074df5-7c77-4214-af8d-6a451058a93b",
   "metadata": {},
   "source": [
    "## Zadanie z Lambdą: Obliczenie Funkcji x^3 + 8y^2 + 2z + 6\n",
    "Napisz funkcję, która przyjmuje trzy argumenty: x, y i z, a następnie zwraca wynik wyrażenia x^3 + 8y^2 + 2z + 6, używając funkcji lambda.\n",
    "\n",
    "1. Zdefiniuj funkcję lambda, która oblicza wartość wyrażenia x^3 + 8y^2 + 2z + 6.\n",
    "2. Zwróć wynik obliczenia.\n",
    "3. Przetestuj funkcję na kilku przykładach.\n"
   ]
  },
  {
   "cell_type": "code",
   "execution_count": null,
   "id": "a0d5cc1d-51d6-4b33-b31b-a16ef1dc33cc",
   "metadata": {},
   "outputs": [],
   "source": []
  }
 ],
 "metadata": {
  "kernelspec": {
   "display_name": "Python 3 (ipykernel)",
   "language": "python",
   "name": "python3"
  },
  "language_info": {
   "codemirror_mode": {
    "name": "ipython",
    "version": 3
   },
   "file_extension": ".py",
   "mimetype": "text/x-python",
   "name": "python",
   "nbconvert_exporter": "python",
   "pygments_lexer": "ipython3",
   "version": "3.12.4"
  }
 },
 "nbformat": 4,
 "nbformat_minor": 5
}
