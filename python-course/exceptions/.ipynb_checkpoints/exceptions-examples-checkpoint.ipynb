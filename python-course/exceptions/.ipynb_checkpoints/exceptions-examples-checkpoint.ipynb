{
 "cells": [
  {
   "cell_type": "markdown",
   "id": "3a456f8d-7494-4a00-a0d1-3be5bf6ac4da",
   "metadata": {},
   "source": [
    "## Podstawowy przykład użycia try-except:\n"
   ]
  },
  {
   "cell_type": "code",
   "execution_count": null,
   "id": "2fa15d35-a48d-458a-9732-ce318cd9085b",
   "metadata": {},
   "outputs": [],
   "source": [
    "try:\n",
    "    # Próba wykonania kodu, który może zgłosić wyjątek\n",
    "    result = 10 / 0\n",
    "except ZeroDivisionError as e:\n",
    "    # Obsługa wyjątku\n",
    "    print(f\"Error: {e}\")\n"
   ]
  },
  {
   "cell_type": "markdown",
   "id": "80ae82cc-c397-40ec-8b5f-1ea5cf457d2d",
   "metadata": {},
   "source": [
    "## Przykład z try-except-else-finally:\n"
   ]
  },
  {
   "cell_type": "code",
   "execution_count": null,
   "id": "addbdedc-819b-41ff-8286-7e43086341f4",
   "metadata": {},
   "outputs": [],
   "source": [
    "try:\n",
    "    # Próba wykonania kodu, który może zgłosić wyjątek\n",
    "    result = 10 / 2\n",
    "except ZeroDivisionError as e:\n",
    "    # Obsługa wyjątku\n",
    "    print(f\"Error: {e}\")\n",
    "else:\n",
    "    # Kod, który wykona się, jeśli nie wystąpił wyjątek\n",
    "    print(f\"Result: {result}\")\n",
    "finally:\n",
    "    # Kod, który wykona się niezależnie od tego, czy wystąpił wyjątek, czy nie\n",
    "    print(\"Execution completed\")\n"
   ]
  },
  {
   "cell_type": "markdown",
   "id": "18f97c2b-0f5a-44c5-be03-763e4c342fa1",
   "metadata": {},
   "source": [
    "## Przykład z różnymi typami wyjątków:\n"
   ]
  },
  {
   "cell_type": "code",
   "execution_count": null,
   "id": "1fd25ff2-85b1-4385-bcc7-1d6da1f3df42",
   "metadata": {},
   "outputs": [],
   "source": [
    "try:\n",
    "    # Próba wykonania kodu, który może zgłosić wyjątek\n",
    "    value = int(input(\"Podaj liczbę: \"))\n",
    "    result = 10 / value\n",
    "except ZeroDivisionError as e:\n",
    "    # Obsługa wyjątku dzielenia przez zero\n",
    "    print(f\"Error: Dzielenie przez zero - {e}\")\n",
    "except ValueError as e:\n",
    "    # Obsługa wyjątku nieprawidłowej wartości\n",
    "    print(f\"Error: Nieprawidłowa wartość - {e}\")\n",
    "else:\n",
    "    # Kod, który wykona się, jeśli nie wystąpił wyjątek\n",
    "    print(f\"Result: {result}\")\n",
    "finally:\n",
    "    # Kod, który wykona się niezależnie od tego, czy wystąpił wyjątek, czy nie\n",
    "    print(\"Execution completed\")\n"
   ]
  },
  {
   "cell_type": "markdown",
   "id": "e703b5f3-2bbe-4226-9902-b387a5fcba98",
   "metadata": {},
   "source": [
    "## Podnoszenie wyjatku"
   ]
  },
  {
   "cell_type": "code",
   "execution_count": null,
   "id": "32e25dc6-d66f-4c65-8071-ac72570ab8e8",
   "metadata": {},
   "outputs": [],
   "source": [
    "def check_age(age):\n",
    "    if age < 18:\n",
    "        raise ValueError(\"Wiek musi być większy lub równy 18.\")\n",
    "    else:\n",
    "        print(\"Wiek jest odpowiedni.\")\n",
    "\n",
    "try:\n",
    "    check_age(15)\n",
    "except ValueError as e:\n",
    "    print(f\"Wystąpił błąd: {e}\")\n"
   ]
  }
 ],
 "metadata": {
  "kernelspec": {
   "display_name": "Python 3 (ipykernel)",
   "language": "python",
   "name": "python3"
  },
  "language_info": {
   "codemirror_mode": {
    "name": "ipython",
    "version": 3
   },
   "file_extension": ".py",
   "mimetype": "text/x-python",
   "name": "python",
   "nbconvert_exporter": "python",
   "pygments_lexer": "ipython3",
   "version": "3.12.4"
  }
 },
 "nbformat": 4,
 "nbformat_minor": 5
}
