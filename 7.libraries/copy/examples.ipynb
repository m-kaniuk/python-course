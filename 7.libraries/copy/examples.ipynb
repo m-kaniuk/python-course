{
 "cells": [
  {
   "cell_type": "code",
   "execution_count": null,
   "metadata": {},
   "outputs": [],
   "source": [
    "import copy\n",
    "\n",
    "# Przykładowy obiekt zagnieżdżony (słownik zawierający listę)\n",
    "original = {\"name\": \"Jan\", \"age\": 30, \"skills\": [\"Python\", \"Java\", \"C++\"]}\n",
    "\n",
    "# Przypisanie obiektu do nowej zmiennej (operator =)\n",
    "assigned_copy = original\n",
    "\n",
    "# Tworzenie płytkiej kopii obiektu\n",
    "shallow_copy = copy.copy(original)\n",
    "\n",
    "# Tworzenie głębokiej kopii obiektu\n",
    "deep_copy = copy.deepcopy(original)\n",
    "\n",
    "# Zmiana wartości w oryginalnym obiekcie\n",
    "original[\"name\"] = \"Adam\"\n",
    "original[\"skills\"].append(\"JavaScript\")\n",
    "\n",
    "print(\"Oryginalny obiekt:\", original)\n",
    "print(\"Przypisanie (operator =):\", assigned_copy)\n",
    "print(\"Płytka kopia:\", shallow_copy)\n",
    "print(\"Głęboka kopia:\", deep_copy)\n"
   ]
  }
 ],
 "metadata": {
  "kernelspec": {
   "display_name": "Python 3 (ipykernel)",
   "language": "python",
   "name": "python3"
  },
  "language_info": {
   "codemirror_mode": {
    "name": "ipython",
    "version": 3
   },
   "file_extension": ".py",
   "mimetype": "text/x-python",
   "name": "python",
   "nbconvert_exporter": "python",
   "pygments_lexer": "ipython3",
   "version": "3.9.16"
  }
 },
 "nbformat": 4,
 "nbformat_minor": 2
}
